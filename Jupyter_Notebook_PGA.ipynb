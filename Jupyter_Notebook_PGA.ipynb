{
 "cells": [
  {
   "cell_type": "markdown",
   "metadata": {},
   "source": [
    "<center>\n",
    "    <img src=\"https://s3-api.us-geo.objectstorage.softlayer.net/cf-courses-data/CognitiveClass/Logos/organization_logo/organization_logo.png\" width=\"300\" alt=\"cognitiveclass.ai logo\"  />\n",
    "</center>\n"
   ]
  },
  {
   "cell_type": "markdown",
   "metadata": {},
   "source": [
    "#### Add your code below following the instructions given in the course\n"
   ]
  },
  {
   "cell_type": "markdown",
   "metadata": {
    "tags": []
   },
   "source": [
    "+My Jupyter Notebook on IBM Watson Studio"
   ]
  },
  {
   "cell_type": "markdown",
   "metadata": {},
   "source": [
    "**Tom Brown**, Systems Analyst"
   ]
  },
  {
   "cell_type": "markdown",
   "metadata": {},
   "source": [
    "*I am interested in data science because I am genuinely curious about a wide variety of subjects.  I like what data science and analysis has to offer regarding that curiosity.   It is like having the ability to sit around, look at data, analyze data, and make up true stuff.  Data doesn't lie.*"
   ]
  },
  {
   "cell_type": "markdown",
   "metadata": {},
   "source": [
    "+++The below loop iterates through each of the elements(item) in the list of fibonacci numbers prints them"
   ]
  },
  {
   "cell_type": "code",
   "execution_count": 7,
   "metadata": {},
   "outputs": [
    {
     "name": "stdout",
     "output_type": "stream",
     "text": [
      "0\n",
      "1\n",
      "1\n",
      "2\n",
      "3\n",
      "5\n",
      "8\n",
      "13\n",
      "21\n",
      "34\n",
      "55\n"
     ]
    }
   ],
   "source": [
    "for item in [0, 1, 1, 2, 3, 5, 8, 13, 21, 34, 55]:\n",
    "    print(item)"
   ]
  },
  {
   "cell_type": "markdown",
   "metadata": {},
   "source": [
    "The following are examples of markdown html shortcuts\n",
    "\n",
    "Below is a table\n",
    "|**Column 1** | **Column 2** | **Column 3** |\n",
    "|------------|----------|-------|\n",
    "|Row 1 Col 1|Row 1 Col 2|Row 1 Col 3|\n",
    "|Row 2 Col 1|Row 2 Col 2|Row 2 Col 3|\n",
    "\n",
    "Below is a horizontal line\n",
    "***\n",
    "\n",
    "Below is a bulleted list\n",
    "\n",
    "- Item One\n",
    "- Item Two\n",
    "    - Item Two A\n",
    "- Item Three\n"
   ]
  }
 ],
 "metadata": {
  "kernelspec": {
   "display_name": "Python",
   "language": "python",
   "name": "conda-env-python-py"
  },
  "language_info": {
   "codemirror_mode": {
    "name": "ipython",
    "version": 3
   },
   "file_extension": ".py",
   "mimetype": "text/x-python",
   "name": "python",
   "nbconvert_exporter": "python",
   "pygments_lexer": "ipython3",
   "version": "3.7.12"
  }
 },
 "nbformat": 4,
 "nbformat_minor": 4
}
